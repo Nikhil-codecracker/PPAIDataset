{
 "cells": [
  {
   "attachments": {},
   "cell_type": "markdown",
   "metadata": {},
   "source": [
    "# Chatbot"
   ]
  },
  {
   "cell_type": "code",
   "execution_count": 1,
   "metadata": {},
   "outputs": [],
   "source": [
    "import json \n",
    "import requests"
   ]
  },
  {
   "cell_type": "code",
   "execution_count": 2,
   "metadata": {},
   "outputs": [],
   "source": [
    "def chatbot():\n",
    "    print(\"Hi! I'm a weather prediction chatbot\")\n",
    "    api_key = \"f37d0c3cb6c045218e1152633232504\"\n",
    "    while(1):\n",
    "        print(\"Which city would you like the weather forcast for? Type 'exit' to quit\")\n",
    "        city = input().lower()\n",
    "        if(city==\"exit\"):\n",
    "            break\n",
    "        url = f\"https://api.weatherapi.com/v1/forecast.json?key={api_key}&q={city}\"\n",
    "        response = requests.get(url)\n",
    "        data = json.loads(response.text)\n",
    "        if len(data)>1:\n",
    "            temp = data[\"current\"][\"temp_c\"]\n",
    "            description = data[\"current\"][\"condition\"][\"text\"]\n",
    "            humidity = data[\"current\"][\"humidity\"]\n",
    "            wind_speed = data[\"current\"][\"wind_kph\"]\n",
    "            print(f\"The weather in {city.title()} is {description}, with a temperature of {temp}°C , humidity of {humidity}%, and wind speed of {wind_speed} km/h.\")\n",
    "            print()\n",
    "        else:\n",
    "            print(\"City not found. Please try again.\")\n",
    "            print()\n",
    "    print(\"Thank you for using the chatbot.\")\n"
   ]
  },
  {
   "cell_type": "code",
   "execution_count": 3,
   "metadata": {},
   "outputs": [
    {
     "name": "stdout",
     "output_type": "stream",
     "text": [
      "Hi! I'm a weather prediction chatbot\n",
      "Which city would you like the weather forcast for? Type 'exit' to quit\n",
      "The weather in New Delhi is Mist, with a temperature of 32.0°C , humidity of 26%, and wind speed of 9.0 km/h.\n",
      "\n",
      "Which city would you like the weather forcast for? Type 'exit' to quit\n",
      "The weather in Mumbai is Overcast, with a temperature of 31.0°C , humidity of 59%, and wind speed of 13.0 km/h.\n",
      "\n",
      "Which city would you like the weather forcast for? Type 'exit' to quit\n",
      "The weather in Landon is Partly cloudy, with a temperature of 5.0°C , humidity of 81%, and wind speed of 19.1 km/h.\n",
      "\n",
      "Which city would you like the weather forcast for? Type 'exit' to quit\n",
      "The weather in Dwarka is Sunny, with a temperature of 31.9°C , humidity of 59%, and wind speed of 16.9 km/h.\n",
      "\n",
      "Which city would you like the weather forcast for? Type 'exit' to quit\n",
      "City not found. Please try again.\n",
      "\n",
      "Which city would you like the weather forcast for? Type 'exit' to quit\n",
      "The weather in Mexico is Partly cloudy, with a temperature of 21.0°C , humidity of 23%, and wind speed of 13.0 km/h.\n",
      "\n",
      "Which city would you like the weather forcast for? Type 'exit' to quit\n",
      "Thank you for using the chatbot.\n"
     ]
    }
   ],
   "source": [
    "chatbot()"
   ]
  },
  {
   "cell_type": "code",
   "execution_count": null,
   "metadata": {},
   "outputs": [],
   "source": []
  }
 ],
 "metadata": {
  "kernelspec": {
   "display_name": "Python 3",
   "language": "python",
   "name": "python3"
  },
  "language_info": {
   "codemirror_mode": {
    "name": "ipython",
    "version": 3
   },
   "file_extension": ".py",
   "mimetype": "text/x-python",
   "name": "python",
   "nbconvert_exporter": "python",
   "pygments_lexer": "ipython3",
   "version": "3.7.5"
  },
  "orig_nbformat": 4
 },
 "nbformat": 4,
 "nbformat_minor": 2
}
